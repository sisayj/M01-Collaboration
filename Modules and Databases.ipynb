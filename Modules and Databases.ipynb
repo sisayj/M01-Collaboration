{
 "cells": [
  {
   "cell_type": "code",
   "execution_count": null,
   "id": "9226a4d1",
   "metadata": {},
   "outputs": [],
   "source": [
    "#11.1 Create a file called zoo.py. In it, define a function called hours() that prints the string 'Open 9-5 daily'. Then, use the interactive interpreter to import the zoo module and call its hours() function.\n",
    "# zoo.py\n",
    "def hours():\n",
    "    print('Open 9-5 daily')\n",
    "\n",
    "\n",
    "# I Use to interactive interpreter to import zoo module and call its hours() function\n",
    "import zoo\n",
    "zoo.hours()"
   ]
  },
  {
   "cell_type": "code",
   "execution_count": null,
   "id": "8894c048",
   "metadata": {},
   "outputs": [],
   "source": [
    "11.2 In the interactive interpreter, import the zoo module as menagerie and call its hours() function.\n",
    "#Import zoo module as menagerie in interactive interpreter\n",
    "import zoo as menagerie\n",
    "menagerie.hours()"
   ]
  },
  {
   "cell_type": "code",
   "execution_count": null,
   "id": "dafc881c",
   "metadata": {},
   "outputs": [],
   "source": [
    "#16.8 Use the sqlalchemy module to connect to the sqlite3 database books.db that you just made in exercise 16.4. As in 16.6, select and print the title column from the book table in alphabetical order.\n",
    "\n",
    "# Step 1: Import necessary modules\n",
    "from sqlalchemy import create_engine, MetaData, Table, Column, Integer, String, select\n",
    "from sqlalchemy.orm import sessionmaker\n",
    "from sqlalchemy.ext.declarative import declarative_base\n",
    "\n",
    "# Step 2: Define the Book model\n",
    "Base = declarative_base()\n",
    "\n",
    "class Book(Base):\n",
    "    __tablename__ = 'book'\n",
    "\n",
    "    id = Column(Integer, primary_key=True)\n",
    "    book_name = Column(String)\n",
    "    author = Column(String)\n",
    "    publisher = Column(String)\n",
    "\n",
    "# Step 3: Connect to the SQLite database and create a session\n",
    "engine = create_engine('sqlite:///books.db')\n",
    "Session = sessionmaker(bind=engine)\n",
    "session = Session()\n",
    "\n",
    "# Step 4: Retrieve and print the titles in alphabetical order\n",
    "books = session.query(Book).order_by(Book.book_name).all()\n",
    "for book in books:\n",
    "    print(book.book_name)\n",
    "\n",
    "# Step 5: Close the session\n",
    "session.close()\n",
    "\n"
   ]
  }
 ],
 "metadata": {
  "kernelspec": {
   "display_name": "Python 3 (ipykernel)",
   "language": "python",
   "name": "python3"
  },
  "language_info": {
   "codemirror_mode": {
    "name": "ipython",
    "version": 3
   },
   "file_extension": ".py",
   "mimetype": "text/x-python",
   "name": "python",
   "nbconvert_exporter": "python",
   "pygments_lexer": "ipython3",
   "version": "3.11.5"
  }
 },
 "nbformat": 4,
 "nbformat_minor": 5
}
