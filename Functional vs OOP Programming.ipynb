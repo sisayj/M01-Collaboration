{
 "cells": [
  {
   "cell_type": "code",
   "execution_count": 1,
   "id": "678f35dd",
   "metadata": {},
   "outputs": [
    {
     "name": "stdout",
     "output_type": "stream",
     "text": [
      "Output 1: [0, 0, 1, 2, 2]\n",
      "Output 2: [0, 0, 1]\n"
     ]
    }
   ],
   "source": [
    "# Given an array of size N containing only 0s, 1s, and 2s; sort the array in ascending order.\n",
    "# Example 1:\n",
    "# Input: \n",
    "# N = 5\n",
    "# arr[]= {0 2 1 2 0}\n",
    "# Output:\n",
    "# 0 0 1 2 2\n",
    "# Explanation:\n",
    "# 0s 1s and 2s are segregated \n",
    "# into ascending order.\n",
    "\n",
    "def sort012(arr, N):\n",
    "    low = 0\n",
    "    mid = 0\n",
    "    high = N - 1\n",
    "\n",
    "    while mid <= high:\n",
    "        if arr[mid] == 0:\n",
    "            arr[low], arr[mid] = arr[mid], arr[low]\n",
    "            low += 1\n",
    "            mid += 1\n",
    "        elif arr[mid] == 1:\n",
    "            mid += 1\n",
    "        else:\n",
    "            arr[mid], arr[high] = arr[high], arr[mid]\n",
    "            high -= 1\n",
    "\n",
    "# Example 1\n",
    "arr1 = [0, 2, 1, 2, 0]\n",
    "N1 = len(arr1)\n",
    "sort012(arr1, N1)\n",
    "print(\"Output 1:\", arr1)\n",
    "\n",
    "# Example 2\n",
    "arr2 = [0, 1, 0]\n",
    "N2 = len(arr2)\n",
    "sort012(arr2, N2)\n",
    "print(\"Output 2:\", arr2)\n"
   ]
  },
  {
   "cell_type": "code",
   "execution_count": 2,
   "id": "587e13db",
   "metadata": {},
   "outputs": [
    {
     "name": "stdout",
     "output_type": "stream",
     "text": [
      "Output 1: 3\n",
      "Output 2: -1\n"
     ]
    }
   ],
   "source": [
    "# Given a sorted array of size N and an integer K, find the position(0-based indexing) at which K is present in the array using binary search.\n",
    "# Example 1:\n",
    "# Input:\n",
    "# N = 5\n",
    "# arr[] = {1 2 3 4 5} \n",
    "# K = 4\n",
    "# Output: 3\n",
    "# Explanation: 4 appears at index 3.\n",
    "# Example 2:\n",
    "# Input:\n",
    "# N = 5\n",
    "# arr[] = {11 22 33 44 55} \n",
    "# K = 445\n",
    "# Output: -1\n",
    "# Explanation: 445 is not present.\n",
    "\n",
    "def binarysearch(arr, N, K):\n",
    "    low, high = 0, N - 1\n",
    "    \n",
    "    while low <= high:\n",
    "        mid = (low + high) // 2\n",
    "        \n",
    "        if arr[mid] == K:\n",
    "            return mid\n",
    "        elif arr[mid] < K:\n",
    "            low = mid + 1\n",
    "        else:\n",
    "            high = mid - 1\n",
    "    \n",
    "    return -1\n",
    "\n",
    "# Example 1\n",
    "arr1 = [1, 2, 3, 4, 5]\n",
    "N1 = len(arr1)\n",
    "K1 = 4\n",
    "print(\"Output 1:\", binarysearch(arr1, N1, K1))\n",
    "\n",
    "# Example 2\n",
    "arr2 = [11, 22, 33, 44, 55]\n",
    "N2 = len(arr2)\n",
    "K2 = 445\n",
    "print(\"Output 2:\", binarysearch(arr2, N2, K2))\n"
   ]
  },
  {
   "cell_type": "code",
   "execution_count": null,
   "id": "363b4401",
   "metadata": {},
   "outputs": [],
   "source": []
  }
 ],
 "metadata": {
  "kernelspec": {
   "display_name": "Python 3 (ipykernel)",
   "language": "python",
   "name": "python3"
  },
  "language_info": {
   "codemirror_mode": {
    "name": "ipython",
    "version": 3
   },
   "file_extension": ".py",
   "mimetype": "text/x-python",
   "name": "python",
   "nbconvert_exporter": "python",
   "pygments_lexer": "ipython3",
   "version": "3.11.5"
  }
 },
 "nbformat": 4,
 "nbformat_minor": 5
}
