{
 "cells": [
  {
   "cell_type": "code",
   "execution_count": 17,
   "id": "919a990e",
   "metadata": {},
   "outputs": [
    {
     "name": "stdout",
     "output_type": "stream",
     "text": [
      "['mozzarella', 'Cinderella', 'salmonella']\n",
      "['MOZZARELLA', 'Cinderella', 'salmonella']\n",
      "['MOZZARELLA', 'Cinderella']\n"
     ]
    }
   ],
   "source": [
    "# 7.4 Create a List Called things\n",
    "# First, we create a list named things with the specified strings as elements.\n",
    "\n",
    "things = [\"mozzarella\", \"cinderella\", \"salmonella\"]\n",
    "\n",
    "# 7.5 Capitalize the Element Referring to a Person\n",
    "\n",
    "things[1] = things[1].capitalize()\n",
    "print(things)\n",
    "\n",
    "# This code will capitalize \"cinderella\" but to answer the question of whether it changes the element in the list: Yes, it does change the element in the list because we are directly modifying the list's element by assignment.\n",
    "# 7.6 Make the Cheesy Element Uppercase\n",
    "#The \"cheesy\" element in the list is \"mozzarella\". We'll convert it to uppercase.\n",
    "\n",
    "things[0] = things[0].upper()\n",
    "print(things)\n",
    "\n",
    "# This code changes \"mozzarella\" to uppercase and modifies the list accordingly.\n",
    "# 7.7 Delete the Disease Element\n",
    "# Finally, we remove the \"disease\" element, which is \"salmonella\", from the list.\n",
    "\n",
    "things.remove(\"salmonella\")\n",
    "print(things)"
   ]
  },
  {
   "cell_type": "code",
   "execution_count": 14,
   "id": "b4523d94",
   "metadata": {},
   "outputs": [],
   "source": [
    "#9.1 Define a function called good() that returns the following list: ['Harry', 'Ron', 'Hermione'].\n",
    "def good():\n",
    "    return ['Harry', 'Ron', 'Hermione']"
   ]
  },
  {
   "cell_type": "code",
   "execution_count": 16,
   "id": "111e30db",
   "metadata": {},
   "outputs": [
    {
     "name": "stdout",
     "output_type": "stream",
     "text": [
      "5\n"
     ]
    }
   ],
   "source": [
    "#9.2 Define a generator function called get_odds() that returns the odd numbers from range(10). Use a for loop to find and print the third value returned.\n",
    "def get_odds():\n",
    "    for number in range(10):\n",
    "        if number % 2 != 0:\n",
    "            yield number\n",
    "\n",
    "# Initialize the generator\n",
    "odds = get_odds()\n",
    "\n",
    "# Retrieve and print the third value\n",
    "third_odd = None\n",
    "for i, odd in enumerate(odds):\n",
    "    if i == 2:  # Since enumeration starts at 0, the third value is at index 2\n",
    "        third_odd = odd\n",
    "        break\n",
    "\n",
    "print(third_odd)"
   ]
  },
  {
   "cell_type": "code",
   "execution_count": null,
   "id": "0b4e3882",
   "metadata": {},
   "outputs": [],
   "source": []
  }
 ],
 "metadata": {
  "kernelspec": {
   "display_name": "Python 3 (ipykernel)",
   "language": "python",
   "name": "python3"
  },
  "language_info": {
   "codemirror_mode": {
    "name": "ipython",
    "version": 3
   },
   "file_extension": ".py",
   "mimetype": "text/x-python",
   "name": "python",
   "nbconvert_exporter": "python",
   "pygments_lexer": "ipython3",
   "version": "3.11.5"
  }
 },
 "nbformat": 4,
 "nbformat_minor": 5
}
