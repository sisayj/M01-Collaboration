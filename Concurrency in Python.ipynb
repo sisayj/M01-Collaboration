{
 "cells": [
  {
   "cell_type": "code",
   "execution_count": 7,
   "id": "25e36b74",
   "metadata": {},
   "outputs": [],
   "source": [
    "import datetime\n",
    "\n",
    "# 13.1 Write the current date as a string to the text file today.txt\n",
    "with open(\"today.txt\", \"w\") as file:\n",
    "    file.write(datetime.datetime.now().strftime(\"%Y-%m-%d\"))\n"
   ]
  },
  {
   "cell_type": "code",
   "execution_count": 8,
   "id": "9285cca4",
   "metadata": {},
   "outputs": [],
   "source": [
    "# 13.2 Read the text file today.txt into the string today_string\n",
    "with open(\"today.txt\", \"r\") as file:\n",
    "    today_string = file.read()"
   ]
  },
  {
   "cell_type": "code",
   "execution_count": 9,
   "id": "91bb11e0",
   "metadata": {},
   "outputs": [
    {
     "name": "stdout",
     "output_type": "stream",
     "text": [
      "Parsed date: 2024-02-25 00:00:00\n"
     ]
    }
   ],
   "source": [
    "# 13.3 Parse the date from today_string\n",
    "parsed_date = datetime.datetime.strptime(today_string, \"%Y-%m-%d\")\n",
    "\n",
    "print(\"Parsed date:\", parsed_date)"
   ]
  },
  {
   "cell_type": "code",
   "execution_count": null,
   "id": "7ee4c2ea",
   "metadata": {},
   "outputs": [],
   "source": [
    "#15.1 Use multiprocessing to create three separate processes. Make each one wait a random number of seconds between zero and one, print the current time, and then exit.\n",
    "import multiprocessing\n",
    "import random\n",
    "import time\n",
    "from datetime import datetime\n",
    "\n",
    "def process_function():\n",
    "    # Generate a random number of seconds to sleep\n",
    "    sleep_time = random.random()\n",
    "    # Sleep for the random amount of time\n",
    "    time.sleep(sleep_time)\n",
    "    # Print the current time\n",
    "    print(\"Current time:\", datetime.now())\n",
    "    # Exit the process\n",
    "    multiprocessing.current_process().exit()\n",
    "\n",
    "if __name__ == \"__main__\":\n",
    "    # Create three separate processes\n",
    "    processes = [multiprocessing.Process(target=process_function) for _ in range(3)]\n",
    "\n",
    "    # Start each process\n",
    "    for process in processes:\n",
    "        process.start()\n",
    "\n",
    "    # Wait for each process to finish\n",
    "    for process in processes:\n",
    "        process.join()\n"
   ]
  }
 ],
 "metadata": {
  "kernelspec": {
   "display_name": "Python 3 (ipykernel)",
   "language": "python",
   "name": "python3"
  },
  "language_info": {
   "codemirror_mode": {
    "name": "ipython",
    "version": 3
   },
   "file_extension": ".py",
   "mimetype": "text/x-python",
   "name": "python",
   "nbconvert_exporter": "python",
   "pygments_lexer": "ipython3",
   "version": "3.11.5"
  }
 },
 "nbformat": 4,
 "nbformat_minor": 5
}
