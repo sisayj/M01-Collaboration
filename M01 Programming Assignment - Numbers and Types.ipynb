{
 "cells": [
  {
   "cell_type": "code",
   "execution_count": 5,
   "id": "40eabdfc",
   "metadata": {},
   "outputs": [
    {
     "name": "stdout",
     "output_type": "stream",
     "text": [
      "3.1 Seconds in an hour: 3600\n",
      "3.2 Seconds per hour (assigned to a variable): 3600\n",
      "3.3 Seconds in a day: 86400\n",
      "3.4 Seconds per day (assigned to a variable): 86400\n",
      "3.5 Floating-point division of seconds_per_day by seconds_per_hour: 24.0\n",
      "3.6 Integer division of seconds_per_day by seconds_per_hour: 24\n"
     ]
    }
   ],
   "source": [
    "# 3.1 How many seconds are in an hour? Use the interactive interpreter as a calculator.\n",
    "seconds_in_an_hour = 60 * 60\n",
    "\n",
    "# 3.2 Assign the result from the previous task (seconds in an hour) to a variable called seconds_per_hour.\n",
    "seconds_per_hour = seconds_in_an_hour\n",
    "\n",
    "# 3.3 How many seconds are in a day? Use your seconds_per_hour variable.\n",
    "seconds_in_a_day = seconds_per_hour * 24\n",
    "\n",
    "# 3.4 Calculate seconds per day again, but this time save the result in a variable called seconds_per_day.\n",
    "seconds_per_day = seconds_in_a_day\n",
    "\n",
    "# 3.5 Divide seconds_per_day by seconds_per_hour. Use floating-point (/) division.\n",
    "floating_point_division = seconds_per_day / seconds_per_hour\n",
    "\n",
    "# 3.6 Divide seconds_per_day by seconds_per_hour, using integer (//) division.\n",
    "integer_division = seconds_per_day // seconds_per_hour\n",
    "\n",
    "# Print the results\n",
    "print(\"3.1 Seconds in an hour:\", seconds_in_an_hour)\n",
    "print(\"3.2 Seconds per hour (assigned to a variable):\", seconds_per_hour)\n",
    "print(\"3.3 Seconds in a day:\", seconds_in_a_day)\n",
    "print(\"3.4 Seconds per day (assigned to a variable):\", seconds_per_day)\n",
    "print(\"3.5 Floating-point division of seconds_per_day by seconds_per_hour:\", floating_point_division)\n",
    "print(\"3.6 Integer division of seconds_per_day by seconds_per_hour:\", integer_division)\n"
   ]
  },
  {
   "cell_type": "code",
   "execution_count": null,
   "id": "7d4e0123",
   "metadata": {},
   "outputs": [],
   "source": []
  }
 ],
 "metadata": {
  "kernelspec": {
   "display_name": "Python 3 (ipykernel)",
   "language": "python",
   "name": "python3"
  },
  "language_info": {
   "codemirror_mode": {
    "name": "ipython",
    "version": 3
   },
   "file_extension": ".py",
   "mimetype": "text/x-python",
   "name": "python",
   "nbconvert_exporter": "python",
   "pygments_lexer": "ipython3",
   "version": "3.11.5"
  }
 },
 "nbformat": 4,
 "nbformat_minor": 5
}
