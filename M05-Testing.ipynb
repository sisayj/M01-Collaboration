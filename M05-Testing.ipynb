{
 "cells": [
  {
   "cell_type": "code",
   "execution_count": 11,
   "id": "381f5fde",
   "metadata": {},
   "outputs": [
    {
     "name": "stderr",
     "output_type": "stream",
     "text": [
      ".\n",
      "----------------------------------------------------------------------\n",
      "Ran 1 test in 0.001s\n",
      "\n",
      "OK\n"
     ]
    }
   ],
   "source": [
    "import unittest\n",
    "def add(a, b):\n",
    "    return a + b\n",
    "\n",
    "#to defining add function and test case\n",
    "class TestAddFunction(unittest.TestCase):\n",
    "    def test_add(self):\n",
    "        #test to ensure that 1+2=3\n",
    "        self.assertEqual(add(1,2),3)\n",
    "        \n",
    "        #I used to excuting the test\n",
    "if __name__ == '__main__':\n",
    "    unittest.main(argv=['first test'],exit=False)\n"
   ]
  }
 ],
 "metadata": {
  "kernelspec": {
   "display_name": "Python 3 (ipykernel)",
   "language": "python",
   "name": "python3"
  },
  "language_info": {
   "codemirror_mode": {
    "name": "ipython",
    "version": 3
   },
   "file_extension": ".py",
   "mimetype": "text/x-python",
   "name": "python",
   "nbconvert_exporter": "python",
   "pygments_lexer": "ipython3",
   "version": "3.11.5"
  }
 },
 "nbformat": 4,
 "nbformat_minor": 5
}
